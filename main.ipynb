{
 "cells": [
  {
   "cell_type": "code",
   "execution_count": 26,
   "metadata": {},
   "outputs": [],
   "source": [
    "import os\n",
    "import cv2\n",
    "import numpy as np"
   ]
  },
  {
   "cell_type": "code",
   "execution_count": 27,
   "metadata": {},
   "outputs": [
    {
     "data": {
      "text/plain": [
       "(['pic8.png',\n",
       "  'picture54.png',\n",
       "  'picture_1.png',\n",
       "  'picture_6.png',\n",
       "  'picture43.png',\n",
       "  'pic0.png',\n",
       "  'picture_2.png',\n",
       "  'picture_5.png',\n",
       "  'picture_3.png',\n",
       "  'picture1.png',\n",
       "  'picture_59.png',\n",
       "  'picture_14.png',\n",
       "  'picture_62.png',\n",
       "  'picture_37.png',\n",
       "  'webcam_4.png',\n",
       "  'pic4.png',\n",
       "  'picture.png'],\n",
       " ['drawing (16).png',\n",
       "  'drawing (1).png',\n",
       "  'drawing (11).png',\n",
       "  'drawing (7).png',\n",
       "  'drawing (4).png',\n",
       "  'drawing (5).png',\n",
       "  'drawing.png',\n",
       "  'drawing (15).png',\n",
       "  'drawing (8).png',\n",
       "  'drawing (9).png',\n",
       "  'drawing (13).png',\n",
       "  'drawing (2).png',\n",
       "  'drawing (6).png',\n",
       "  'drawing (12).png',\n",
       "  'drawing (3).png',\n",
       "  'drawing (10).png',\n",
       "  'drawing (14).png'])"
      ]
     },
     "execution_count": 27,
     "metadata": {},
     "output_type": "execute_result"
    }
   ],
   "source": [
    "webcam_path = 'data/webcam'\n",
    "drawing_path = 'data/drawing'\n",
    "\n",
    "webcam_pics = os.listdir(webcam_path)\n",
    "drawing_pics = os.listdir(drawing_path)\n",
    "\n",
    "webcam_pics, drawing_pics"
   ]
  },
  {
   "cell_type": "code",
   "execution_count": 28,
   "metadata": {},
   "outputs": [],
   "source": [
    "def preprocess_webcam_image(image_path):\n",
    "    img = cv2.imread(image_path, cv2.IMREAD_GRAYSCALE)\n",
    "    img = cv2.resize(img, (28, 28))\n",
    "    # img = img / 255.0\n",
    "    img = 1 - img\n",
    "    # img = 1 - img\n",
    "    # print(img.shape)\n",
    "    # img = np.reshape(img, (28, 28))\n",
    "\n",
    "    return img"
   ]
  },
  {
   "cell_type": "code",
   "execution_count": 29,
   "metadata": {},
   "outputs": [
    {
     "data": {
      "text/plain": [
       "(28, 28)"
      ]
     },
     "execution_count": 29,
     "metadata": {},
     "output_type": "execute_result"
    }
   ],
   "source": [
    "full_path = os.path.join(webcam_path, webcam_pics[0])\n",
    "processed_webcam_image = preprocess_webcam_image(full_path)\n",
    "processed_webcam_image.shape"
   ]
  },
  {
   "cell_type": "code",
   "execution_count": 30,
   "metadata": {},
   "outputs": [
    {
     "data": {
      "image/png": "[encoded data removed]",
      "text/plain": [
       "<Figure size 640x480 with 1 Axes>"
      ]
     },
     "metadata": {},
     "output_type": "display_data"
    }
   ],
   "source": [
    "import matplotlib.pyplot as plt\n",
    "\n",
    "plt.plot()\n",
    "plt.imshow(processed_webcam_image, cmap=plt.get_cmap('gray'))\n",
    "plt.show()"
   ]
  }
 ],
 "metadata": {
  "kernelspec": {
   "display_name": "Python 3 (ipykernel)",
   "language": "python",
   "name": "python3"
  },
  "language_info": {
   "codemirror_mode": {
    "name": "ipython",
    "version": 3
   },
   "file_extension": ".py",
   "mimetype": "text/x-python",
   "name": "python",
   "nbconvert_exporter": "python",
   "pygments_lexer": "ipython3",
   "version": "3.11.5"
  }
 },
 "nbformat": 4,
 "nbformat_minor": 2
}
