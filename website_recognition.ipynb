{
 "cells": [
  {
   "cell_type": "code",
   "execution_count": 1,
   "metadata": {},
   "outputs": [
    {
     "name": "stderr",
     "output_type": "stream",
     "text": [
      "2024-03-01 13:24:37.196678: I tensorflow/core/platform/cpu_feature_guard.cc:182] This TensorFlow binary is optimized to use available CPU instructions in performance-critical operations.\n",
      "To enable the following instructions: SSE4.1 SSE4.2 AVX AVX2 AVX512F AVX512_VNNI FMA, in other operations, rebuild TensorFlow with the appropriate compiler flags.\n"
     ]
    }
   ],
   "source": [
    "import os\n",
    "import numpy as np\n",
    "import matplotlib.pyplot as plt\n",
    "import cv2\n",
    "from tensorflow.keras.models import load_model\n",
    "\n",
    "from functions.plot_web_img import plot_web_img\n",
    "from functions.processing_img import processing_img"
   ]
  },
  {
   "cell_type": "code",
   "execution_count": 2,
   "metadata": {},
   "outputs": [
    {
     "name": "stdout",
     "output_type": "stream",
     "text": [
      "['7', '4', '0', '9', '6', '3', '1', '2', '8', '5'] ['7', '4', '0', '9', '6', '3', '1', '2', '8', '5']\n"
     ]
    }
   ],
   "source": [
    "webcam_path = 'data/webcam'\n",
    "drawing_path = 'data/drawing'\n",
    "\n",
    "webcam_pics = os.listdir(webcam_path)\n",
    "drawing_pics = os.listdir(drawing_path)\n",
    "\n",
    "# Associate the name of the image with the image itself\n",
    "webcam_pics = {pic: plt.imread(os.path.join(webcam_path, pic)) for pic in webcam_pics}\n",
    "drawing_pics = {pic: plt.imread(os.path.join(drawing_path, pic)) for pic in drawing_pics}\n",
    "\n",
    "# Save keys (without '.png' and '_') of the dictionary in a list named actual_digits\n",
    "webcam_actual_digits = [pic.split('.')[0].split('_')[0] for pic in webcam_pics.keys()]\n",
    "drawing_actual_digits = [pic.split('.')[0].split('_')[0] for pic in drawing_pics.keys()]\n",
    "\n",
    "print(drawing_actual_digits, drawing_actual_digits)"
   ]
  },
  {
   "cell_type": "code",
   "execution_count": 3,
   "metadata": {},
   "outputs": [
    {
     "data": {
      "image/png": "[encoded data removed]",
      "text/plain": [
       "<Figure size 1500x300 with 5 Axes>"
      ]
     },
     "metadata": {},
     "output_type": "display_data"
    }
   ],
   "source": [
    "processed_webcam_pics = []\n",
    "for image_file in os.listdir(webcam_path):\n",
    "    full_path = os.path.join(webcam_path, image_file)\n",
    "    processed_image = processing_img(full_path)\n",
    "    processed_image = processed_image / 255.0\n",
    "    processed_webcam_pics.append(processed_image)\n",
    "\n",
    "# Plot 5 first images in the processed_webcam_pics list using the plot_web_img function\n",
    "plot_web_img(processed_webcam_pics[:5])"
   ]
  },
  {
   "cell_type": "code",
   "execution_count": 4,
   "metadata": {},
   "outputs": [
    {
     "data": {
      "image/png": "[encoded data removed]",
      "text/plain": [
       "<Figure size 1500x300 with 5 Axes>"
      ]
     },
     "metadata": {},
     "output_type": "display_data"
    }
   ],
   "source": [
    "processed_drawing_pics = []\n",
    "for image_file in os.listdir(drawing_path):\n",
    "    full_path = os.path.join(drawing_path, image_file)\n",
    "    processed_image = processing_img(full_path)\n",
    "    _, processed_image = cv2.threshold(processed_image, 0, 255, cv2.THRESH_BINARY + cv2.THRESH_OTSU)\n",
    "    processed_image = processed_image / 255.0\n",
    "    processed_drawing_pics.append(processed_image)\n",
    "\n",
    "# Plot 5 first images in the processed_drawing_pics list using the plot_web_img function\n",
    "plot_web_img(processed_drawing_pics[:5])"
   ]
  },
  {
   "cell_type": "code",
   "execution_count": 5,
   "metadata": {},
   "outputs": [
    {
     "ename": "OSError",
     "evalue": "No file or directory found at training_models/number_recon_model.keras",
     "output_type": "error",
     "traceback": [
      "\u001b[0;31m---------------------------------------------------------------------------\u001b[0m",
      "\u001b[0;31mOSError\u001b[0m                                   Traceback (most recent call last)",
      "Cell \u001b[0;32mIn[5], line 1\u001b[0m\n\u001b[0;32m----> 1\u001b[0m model \u001b[38;5;241m=\u001b[39m load_model(\u001b[38;5;124m'\u001b[39m\u001b[38;5;124mtraining_models/number_recon_model.keras\u001b[39m\u001b[38;5;124m'\u001b[39m)\n",
      "File \u001b[0;32m~/miniconda3/envs/ComputerVision/lib/python3.11/site-packages/keras/saving/saving_api.py:212\u001b[0m, in \u001b[0;36mload_model\u001b[0;34m(filepath, custom_objects, compile, safe_mode, **kwargs)\u001b[0m\n\u001b[1;32m    204\u001b[0m     \u001b[38;5;28;01mreturn\u001b[39;00m saving_lib\u001b[38;5;241m.\u001b[39mload_model(\n\u001b[1;32m    205\u001b[0m         filepath,\n\u001b[1;32m    206\u001b[0m         custom_objects\u001b[38;5;241m=\u001b[39mcustom_objects,\n\u001b[1;32m    207\u001b[0m         \u001b[38;5;28mcompile\u001b[39m\u001b[38;5;241m=\u001b[39m\u001b[38;5;28mcompile\u001b[39m,\n\u001b[1;32m    208\u001b[0m         safe_mode\u001b[38;5;241m=\u001b[39msafe_mode,\n\u001b[1;32m    209\u001b[0m     )\n\u001b[1;32m    211\u001b[0m \u001b[38;5;66;03m# Legacy case.\u001b[39;00m\n\u001b[0;32m--> 212\u001b[0m \u001b[38;5;28;01mreturn\u001b[39;00m legacy_sm_saving_lib\u001b[38;5;241m.\u001b[39mload_model(\n\u001b[1;32m    213\u001b[0m     filepath, custom_objects\u001b[38;5;241m=\u001b[39mcustom_objects, \u001b[38;5;28mcompile\u001b[39m\u001b[38;5;241m=\u001b[39m\u001b[38;5;28mcompile\u001b[39m, \u001b[38;5;241m*\u001b[39m\u001b[38;5;241m*\u001b[39mkwargs\n\u001b[1;32m    214\u001b[0m )\n",
      "File \u001b[0;32m~/miniconda3/envs/ComputerVision/lib/python3.11/site-packages/keras/utils/traceback_utils.py:70\u001b[0m, in \u001b[0;36mfilter_traceback.<locals>.error_handler\u001b[0;34m(*args, **kwargs)\u001b[0m\n\u001b[1;32m     67\u001b[0m     filtered_tb \u001b[38;5;241m=\u001b[39m _process_traceback_frames(e\u001b[38;5;241m.\u001b[39m__traceback__)\n\u001b[1;32m     68\u001b[0m     \u001b[38;5;66;03m# To get the full stack trace, call:\u001b[39;00m\n\u001b[1;32m     69\u001b[0m     \u001b[38;5;66;03m# `tf.debugging.disable_traceback_filtering()`\u001b[39;00m\n\u001b[0;32m---> 70\u001b[0m     \u001b[38;5;28;01mraise\u001b[39;00m e\u001b[38;5;241m.\u001b[39mwith_traceback(filtered_tb) \u001b[38;5;28;01mfrom\u001b[39;00m \u001b[38;5;28;01mNone\u001b[39;00m\n\u001b[1;32m     71\u001b[0m \u001b[38;5;28;01mfinally\u001b[39;00m:\n\u001b[1;32m     72\u001b[0m     \u001b[38;5;28;01mdel\u001b[39;00m filtered_tb\n",
      "File \u001b[0;32m~/miniconda3/envs/ComputerVision/lib/python3.11/site-packages/keras/saving/legacy/save.py:230\u001b[0m, in \u001b[0;36mload_model\u001b[0;34m(filepath, custom_objects, compile, options)\u001b[0m\n\u001b[1;32m    228\u001b[0m \u001b[38;5;28;01mif\u001b[39;00m \u001b[38;5;28misinstance\u001b[39m(filepath_str, \u001b[38;5;28mstr\u001b[39m):\n\u001b[1;32m    229\u001b[0m     \u001b[38;5;28;01mif\u001b[39;00m \u001b[38;5;129;01mnot\u001b[39;00m tf\u001b[38;5;241m.\u001b[39mio\u001b[38;5;241m.\u001b[39mgfile\u001b[38;5;241m.\u001b[39mexists(filepath_str):\n\u001b[0;32m--> 230\u001b[0m         \u001b[38;5;28;01mraise\u001b[39;00m \u001b[38;5;167;01mIOError\u001b[39;00m(\n\u001b[1;32m    231\u001b[0m             \u001b[38;5;124mf\u001b[39m\u001b[38;5;124m\"\u001b[39m\u001b[38;5;124mNo file or directory found at \u001b[39m\u001b[38;5;132;01m{\u001b[39;00mfilepath_str\u001b[38;5;132;01m}\u001b[39;00m\u001b[38;5;124m\"\u001b[39m\n\u001b[1;32m    232\u001b[0m         )\n\u001b[1;32m    234\u001b[0m     \u001b[38;5;28;01mif\u001b[39;00m tf\u001b[38;5;241m.\u001b[39mio\u001b[38;5;241m.\u001b[39mgfile\u001b[38;5;241m.\u001b[39misdir(filepath_str):\n\u001b[1;32m    235\u001b[0m         \u001b[38;5;28;01mreturn\u001b[39;00m saved_model_load\u001b[38;5;241m.\u001b[39mload(\n\u001b[1;32m    236\u001b[0m             filepath_str, \u001b[38;5;28mcompile\u001b[39m, options\n\u001b[1;32m    237\u001b[0m         )\n",
      "\u001b[0;31mOSError\u001b[0m: No file or directory found at training_models/number_recon_model.keras"
     ]
    }
   ],
   "source": [
    "model = load_model('training_models/number_recon_model.keras')"
   ]
  },
  {
   "cell_type": "code",
   "execution_count": null,
   "metadata": {},
   "outputs": [],
   "source": [
    "webcam_test_data = np.array(processed_webcam_pics)\n",
    "drawing_test_data = np.array(processed_drawing_pics)"
   ]
  },
  {
   "cell_type": "code",
   "execution_count": null,
   "metadata": {},
   "outputs": [],
   "source": [
    "webcam_predictions = model.predict(webcam_test_data)\n",
    "\n",
    "webcam_predicted_digits = np.argmax(webcam_predictions, axis=1)\n",
    "\n",
    "num_images = len(webcam_test_data)\n",
    "rows = int(np.ceil(num_images / 5.0))  # Use np.ceil to round up to the nearest whole number\n",
    "fig, axes = plt.subplots(rows, 5, figsize=(15, rows*3))\n",
    "axes = axes.ravel()  # Flatten the axes array\n",
    "\n",
    "# Hide axes for unused subplots\n",
    "for ax in axes[num_images:]:\n",
    "    ax.axis('off')\n",
    "\n",
    "for i, image in enumerate(webcam_test_data):\n",
    "    axes[i].imshow(image, cmap='gray')\n",
    "    axes[i].axis('off')\n",
    "    axes[i].set_title(f\"Predicted: {webcam_predicted_digits[i]}\")\n",
    "    axes[i].set_title(f\"Predicted: {webcam_predicted_digits[i]}, Actual: {webcam_actual_digits[i]}\")\n",
    "\n",
    "plt.tight_layout()\n",
    "plt.show()\n",
    "\n",
    "# Caluculate accuracy\n",
    "correct = 0\n",
    "for i in range(len(webcam_predicted_digits)):\n",
    "    if webcam_predicted_digits[i] == int(webcam_actual_digits[i]):\n",
    "        correct += 1\n",
    "\n",
    "accuracy = correct / len(webcam_predicted_digits)\n",
    "\n",
    "print(f\"Accuracy: {accuracy:.0%}\")"
   ]
  },
  {
   "cell_type": "code",
   "execution_count": null,
   "metadata": {},
   "outputs": [],
   "source": [
    "drawing_predictions = model.predict(drawing_test_data)\n",
    "\n",
    "drawing_predicted_digits = np.argmax(drawing_predictions, axis=1)\n",
    "\n",
    "num_images = len(drawing_test_data)\n",
    "rows = int(np.ceil(num_images / 5.0))  # Use np.ceil to round up to the nearest whole number\n",
    "fig, axes = plt.subplots(rows, 5, figsize=(15, rows*3))\n",
    "axes = axes.ravel()  # Flatten the axes array\n",
    "\n",
    "# Hide axes for unused subplots\n",
    "for ax in axes[num_images:]:\n",
    "    ax.axis('off')\n",
    "\n",
    "for i, image in enumerate(drawing_test_data):\n",
    "    axes[i].imshow(image, cmap='gray')\n",
    "    axes[i].axis('off')\n",
    "    axes[i].set_title(f\"Predicted: {drawing_predicted_digits[i]}\")\n",
    "    axes[i].set_title(f\"Predicted: {drawing_predicted_digits[i]}, Actual: {drawing_actual_digits[i]}\")\n",
    "\n",
    "plt.tight_layout()\n",
    "plt.show()\n",
    "\n",
    "# Caluculate accuracy\n",
    "correct = 0\n",
    "for i in range(len(drawing_predicted_digits)):\n",
    "    if drawing_predicted_digits[i] == int(drawing_actual_digits[i]):\n",
    "        correct += 1\n",
    "\n",
    "accuracy = correct / len(drawing_predicted_digits)\n",
    "\n",
    "print(f\"Accuracy: {accuracy:.0%}\")"
   ]
  }
 ],
 "metadata": {
  "kernelspec": {
   "display_name": "Python 3 (ipykernel)",
   "language": "python",
   "name": "python3"
  },
  "language_info": {
   "codemirror_mode": {
    "name": "ipython",
    "version": 3
   },
   "file_extension": ".py",
   "mimetype": "text/x-python",
   "name": "python",
   "nbconvert_exporter": "python",
   "pygments_lexer": "ipython3",
   "version": "3.11.5"
  }
 },
 "nbformat": 4,
 "nbformat_minor": 4
}
